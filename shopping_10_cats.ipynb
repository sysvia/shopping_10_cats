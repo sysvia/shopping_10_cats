{
 "nbformat": 4,
 "nbformat_minor": 0,
 "metadata": {
  "colab": {
   "provenance": []
  },
  "kernelspec": {
   "name": "python3",
   "display_name": "Python 3"
  },
  "language_info": {
   "name": "python"
  }
 },
 "cells": [
  {
   "cell_type": "code",
   "execution_count": 1,
   "metadata": {
    "id": "W2-YfI1neDEC",
    "pycharm": {
     "name": "#%%\n"
    }
   },
   "outputs": [],
   "source": [
    "from google.colab import files"
   ]
  },
  {
   "cell_type": "code",
   "source": [
    "!pip install tensorflow==2.7.0 --quiet\n",
    "!pip install streamlit==1.3.0 --quiet\n",
    "!pip install pyngrok==4.1.1 --quiet\n",
    "!pip install ginza ja-ginza --quiet\n",
    "!pip install jieba --quiet"
   ],
   "metadata": {
    "id": "Ktor0aUmr3fl",
    "pycharm": {
     "name": "#%%\n"
    }
   },
   "execution_count": 2,
   "outputs": []
  },
  {
   "cell_type": "code",
   "source": [
    "import streamlit as st\n",
    "from pyngrok import ngrok\n",
    "import tensorflow as tf\n",
    "import keras\n",
    "from keras.preprocessing.sequence import pad_sequences"
   ],
   "metadata": {
    "id": "rEYSMnacpL_G",
    "pycharm": {
     "name": "#%%\n"
    }
   },
   "execution_count": null,
   "outputs": []
  },
  {
   "cell_type": "code",
   "source": [
    "!ngrok authtoken 2IcOhZUWrADNDIpxyWtwliwOr9w_38S6GqdwN7QTfrzPVwyH3"
   ],
   "metadata": {
    "id": "2BVe7Ieeom58",
    "pycharm": {
     "name": "#%%\n"
    }
   },
   "execution_count": null,
   "outputs": []
  },
  {
   "cell_type": "code",
   "source": [
    "!streamlit run shopping_10_cats.py &>/dev/null&"
   ],
   "metadata": {
    "id": "gCRIfyZXo33A",
    "pycharm": {
     "name": "#%%\n"
    }
   },
   "execution_count": 6,
   "outputs": []
  },
  {
   "cell_type": "code",
   "source": [
    "ngrok.kill()\n",
    "url = ngrok.connect(port=\"8501\")"
   ],
   "metadata": {
    "id": "PnBF56Oko9Ja",
    "pycharm": {
     "name": "#%%\n"
    }
   },
   "execution_count": null,
   "outputs": []
  },
  {
   "cell_type": "code",
   "source": [
    "url"
   ],
   "metadata": {
    "id": "dKvC0j-upl39",
    "pycharm": {
     "name": "#%%\n"
    }
   },
   "execution_count": null,
   "outputs": []
  },
  {
   "cell_type": "code",
   "source": [],
   "metadata": {
    "id": "wlT7-ahLpory",
    "pycharm": {
     "name": "#%%\n"
    }
   },
   "execution_count": null,
   "outputs": []
  }
 ]
}